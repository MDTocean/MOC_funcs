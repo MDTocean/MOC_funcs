{
 "cells": [
  {
   "cell_type": "code",
   "execution_count": null,
   "id": "a3c28f5e-1e80-42ca-9639-aea8b2255aae",
   "metadata": {},
   "outputs": [],
   "source": [
    "### Calculate RAPID AMOC and MHT streamfunctions and timeseries using OFFLINE tools:\n",
    "### i.e. using MONTHLY transports and temperatures to calculate the heat transport. \n",
    "### This compares control simulations to the RAPID observations  "
   ]
  },
  {
   "cell_type": "code",
   "execution_count": null,
   "id": "22817d86-53b5-4b20-a2cb-942aab374e98",
   "metadata": {},
   "outputs": [],
   "source": [
    "%matplotlib inline\n",
    "\n",
    "import sys\n",
    "sys.path.insert(0, '/home/Matthew.Thomas/python_code/python_pkgs/MOC_funcs')\n",
    "\n",
    "import xarray as xr\n",
    "import numpy as np\n",
    "import matplotlib.pyplot as plt\n",
    "from matplotlib import gridspec\n",
    "import cartopy.crs as ccrs\n",
    "from numba import njit\n",
    "import sectionate\n",
    "from glob import glob\n",
    "import momlevel\n",
    "from xhistogram.xarray import histogram\n",
    "import MOC_funcs\n",
    "from cmip_basins.basins import generate_basin_codes\n",
    "import julian\n",
    "\n",
    "import warnings\n",
    "warnings.filterwarnings('ignore')"
   ]
  },
  {
   "cell_type": "markdown",
   "id": "35e1cfd6-4404-4524-b838-6a35f207e995",
   "metadata": {},
   "source": [
    "### Set up a dask cluster if needed: "
   ]
  },
  {
   "cell_type": "code",
   "execution_count": null,
   "id": "8843b6c9-c756-4b7f-8c26-33958839d569",
   "metadata": {},
   "outputs": [],
   "source": [
    "# import dask\n",
    "# from dask.distributed import Client\n",
    "# from dask_jobqueue import SLURMCluster\n",
    "# dask.config.set(**{'array.slicing.split_large_chunks': False})\n",
    "\n",
    "# portdash = 18234\n",
    "\n",
    "# cluster = SLURMCluster(\n",
    "#     queue=\"batch\",\n",
    "#     cores=8,\n",
    "#     processes=4,\n",
    "#     project=\"gfdl_o\",\n",
    "#     memory=\"48GB\",\n",
    "#     walltime=\"8:00:00\",\n",
    "#     local_directory=\"$TMPDIR\",\n",
    "#     death_timeout=120,\n",
    "#     scheduler_options={\"dashboard_address\":f\":{portdash}\"},\n",
    "# )\n",
    "\n",
    "# client = Client(cluster)\n",
    "# client"
   ]
  },
  {
   "cell_type": "code",
   "execution_count": null,
   "id": "b6b749db-5c28-4597-9c78-e95061eebf9f",
   "metadata": {},
   "outputs": [],
   "source": [
    "# cluster.scale(jobs=10)"
   ]
  },
  {
   "cell_type": "markdown",
   "id": "94ff46d7-8199-4c87-9a09-442d94caa6c4",
   "metadata": {},
   "source": [
    "## Dictionary of all input variables for the different models to be looked at: "
   ]
  },
  {
   "cell_type": "code",
   "execution_count": null,
   "id": "3520c537-46f8-40b1-b848-9bc6bf61000a",
   "metadata": {},
   "outputs": [],
   "source": [
    "run_dict = {\n",
    "                'odiv209' : {\n",
    "                             'vars_path' : \"/archive/Raphael.Dussin/FMS2019.01.03_devgfdl_20210706/CM4_piControl_c192_OM4p125_v7/gfdl.ncrc4-intel18-prod-openmp/pp/ocean_month_z/ts/monthly/5yr/\",\n",
    "                             'eddy_vars_path' : \"/archive/Raphael.Dussin/FMS2019.01.03_devgfdl_20210706/CM4_piControl_c192_OM4p125_v7/gfdl.ncrc4-intel18-prod-openmp/pp/ocean_monthly_z_d2/ts/monthly/5yr/\",\n",
    "                             'grid_path' : \"/archive/Raphael.Dussin/FMS2019.01.03_devgfdl_20210706/CM4_piControl_c192_OM4p125_v7/gfdl.ncrc4-intel18-prod-openmp/pp/ocean_month_z/ocean_month_z.static.nc\",\n",
    "                             'eddy_grid_path' : \"/archive/Raphael.Dussin/FMS2019.01.03_devgfdl_20210706/CM4_piControl_c192_OM4p125_v7/gfdl.ncrc4-intel18-prod-openmp/pp/ocean_monthly_z_d2/ocean_monthly_z_d2.static.nc\",\n",
    "                             'file_str_identifier' : \"*\",\n",
    "                             'lat_range' : [26.3],\n",
    "                             'basin_list': [2],\n",
    "                             'z_layer_var' : \"z_l\",\n",
    "                             'z_inter_var' : \"z_i\",\n",
    "                             'color_identifier' : 'b',\n",
    "                             },\n",
    "                'odiv1' :   {\n",
    "                             'vars_path' : \"/archive/oar.gfdl.cmip6/CM4/warsaw_201710_om4_v1.0.1/CM4_piControl_C/gfdl.ncrc4-intel16-prod-openmp/pp/ocean_monthly_z/ts/monthly/5yr/\",\n",
    "                             'eddy_vars_path' : \"/archive/oar.gfdl.cmip6/CM4/warsaw_201710_om4_v1.0.1/CM4_piControl_C/gfdl.ncrc4-intel16-prod-openmp/pp/ocean_monthly_z/ts/monthly/5yr/\",\n",
    "                             'grid_path' : \"/archive/oar.gfdl.cmip6/CM4/warsaw_201710_om4_v1.0.1/CM4_piControl_C/gfdl.ncrc4-intel16-prod-openmp/pp/ocean_monthly_z/ocean_monthly_z.static.nc\",\n",
    "                             'eddy_grid_path' : \"/archive/oar.gfdl.cmip6/CM4/warsaw_201710_om4_v1.0.1/CM4_piControl_C/gfdl.ncrc4-intel16-prod-openmp/pp/ocean_monthly_z/ocean_monthly_z.static.nc\",\n",
    "                             'file_str_identifier' : \"*.0[0-2]*\",\n",
    "                             'lat_range' : [26.3],\n",
    "                             'basin_list': [2],\n",
    "                             'z_layer_var' : \"z_l\",\n",
    "                             'z_inter_var' : \"z_i\",\n",
    "                             'color_identifier' : 'r',\n",
    "                             },\n",
    "                'odiv230' : {\n",
    "                             'vars_path' : \"/archive/Raphael.Dussin/FMS2019.01.03_devgfdl_20221223/CM4_piControl_c192_OM4p25_v8/gfdl.ncrc4-intel18-prod-openmp/pp/ocean_monthly_z/ts/monthly/5yr/\",\n",
    "                             'eddy_vars_path' : \"/archive/Raphael.Dussin/FMS2019.01.03_devgfdl_20221223/CM4_piControl_c192_OM4p25_v8/gfdl.ncrc4-intel18-prod-openmp/pp/ocean_monthly_z/ts/monthly/5yr/\",\n",
    "                             'grid_path' : \"/archive/Raphael.Dussin/FMS2019.01.03_devgfdl_20221223/CM4_piControl_c192_OM4p25_v8/gfdl.ncrc4-intel18-prod-openmp/pp/ocean_monthly_z/ocean_monthly_z.static.nc\",\n",
    "                             'eddy_grid_path' : \"/archive/Raphael.Dussin/FMS2019.01.03_devgfdl_20221223/CM4_piControl_c192_OM4p25_v8/gfdl.ncrc4-intel18-prod-openmp/pp/ocean_monthly_z/ocean_monthly_z.static.nc\",\n",
    "                             'file_str_identifier' : \"*\",\n",
    "                             'lat_range' : [26.3],\n",
    "                             'basin_list': [2],\n",
    "                             'z_layer_var' : \"z_l\",\n",
    "                             'z_inter_var' : \"z_i\",\n",
    "                             'color_identifier' : 'yellow',\n",
    "                             },\n",
    "            }"
   ]
  },
  {
   "cell_type": "markdown",
   "id": "223571c2-6202-487c-80c8-f8a2564d2c26",
   "metadata": {},
   "source": [
    "### Load data for all the different models listed in the run_dict:"
   ]
  },
  {
   "cell_type": "code",
   "execution_count": null,
   "id": "dfd54f0e-1d34-4087-8bce-6879e721368f",
   "metadata": {},
   "outputs": [],
   "source": [
    "%%time\n",
    "### AMOCz in CM4hires\n",
    "ComputeDiag_dict = {}\n",
    "dmgetout_flag = False\n",
    "zarr_dir='/xtmp/Matthew.Thomas/work'\n",
    "if dmgetout_flag: print(f'run the following dmget commands:')\n",
    "for keys in run_dict:\n",
    "    ds_z_offline, grid_z_offline, moc_z_offline, rhopoto = MOC_funcs.MOC_basin_latrange_offline(dir_vars=run_dict[keys]['vars_path'],dir_grid=run_dict[keys]['grid_path'],file_str_identifier=run_dict[keys]['file_str_identifier'],lat_range=run_dict[keys]['lat_range'],basin_list=run_dict[keys]['basin_list'],z_layer_var=run_dict[keys]['z_layer_var'],z_inter_var=run_dict[keys]['z_inter_var'],decode_times_flag=True,dmgetout=dmgetout_flag,zarr_dir=zarr_dir)\n",
    "    ds_z_eddy, grid_eddy, moc_z_eddy, vmo_z_zonmean_eddy = MOC_funcs.MOC_basin_latrange_online(dir_vars=run_dict[keys]['eddy_vars_path'],dir_grid=run_dict[keys]['eddy_grid_path'],file_str_identifier=run_dict[keys]['file_str_identifier'],lat_range=run_dict[keys]['lat_range'],basin_list=run_dict[keys]['basin_list'],z_layer_var=run_dict[keys]['z_layer_var'],z_inter_var=run_dict[keys]['z_inter_var'],decode_times_flag=True,v_transport_var=\"vhml\",dmgetout=dmgetout_flag,zarr_dir=zarr_dir)\n",
    "    \n",
    "    if len(ds_z_offline)>0:\n",
    "        MOCsig_MHTMFT, MOCz_MHTMFT, MOCsigz_MHTMFT = MOC_funcs.MOC_basin_computeMFTMHT(ds=ds_z_offline,grid=grid_z_offline,rho=rhopoto,rholims=[21,28.1],nrho=500,rebin_depth=np.arange(100,6600,100),rho_dim='rhopoto_bin',z_dim='z_l',dist_var='xh',annual_mean_flag=False,plot_flag=False)\n",
    "\n",
    "        ds_z_eddy['time']=ds_z_offline['time']\n",
    "        moc_z_resid=(ds_z_offline.vmo.sum('xh').cumsum('z_l'))-(ds_z_eddy.vhml.rename('vmo').sum('xh').cumsum('z_l'))\n",
    "\n",
    "        ComputeDiag_dict[keys]={'ds_z_offline' : ds_z_offline, 'grid_z_offline' : grid_z_offline, 'moc_z_offline' : moc_z_offline, 'rhopoto' : rhopoto,\n",
    "                                'ds_z_eddy' : ds_z_eddy, 'moc_z_eddy' : moc_z_eddy, 'vmo_z_zonmean_eddy' : vmo_z_zonmean_eddy, 'moc_z_resid' : moc_z_resid,\n",
    "                                'MOCsig_MHTMFT' : MOCsig_MHTMFT, 'MOCz_MHTMFT' : MOCz_MHTMFT, 'MOCsigz_MHTMFT' : MOCsigz_MHTMFT,\n",
    "                                }"
   ]
  },
  {
   "cell_type": "markdown",
   "id": "0e584a46-e51d-4bca-aea3-3faa1253cfb9",
   "metadata": {},
   "source": [
    "### Now load RAPID observations"
   ]
  },
  {
   "cell_type": "code",
   "execution_count": null,
   "id": "a972dd0a-3246-489b-ae65-4225c7536e7f",
   "metadata": {},
   "outputs": [],
   "source": [
    "### Load RAPID volume transport\n",
    "RAPID_streamfunction=xr.open_dataset('/home/Matthew.Thomas/archive/data/RAPID/moc_vertical.nc',decode_times=True)\n",
    "RAPID_transports=xr.open_dataset('/home/Matthew.Thomas/archive/data/RAPID/moc_transports.nc',decode_times=True)"
   ]
  },
  {
   "cell_type": "code",
   "execution_count": null,
   "id": "021f55dc-041a-407e-8422-269130a44859",
   "metadata": {},
   "outputs": [],
   "source": [
    "### Load RAPID heat transport\n",
    "#See this page for details on naming: https://docs.google.com/document/d/1TEbVP5dd9dot9_IWUlRc0ipg-eAdzZ1_/edit\n",
    "ds_RAPID_MOCHA=xr.open_dataset('/home/Matthew.Thomas/archive/data/RAPID/mocha_mht_data_ERA5_v2018_2.nc',decode_times=True)\n",
    "dates = [julian.from_jd(x) for x in ds_RAPID_MOCHA.julian_day]\n",
    "ds_RAPID_MOCHA = ds_RAPID_MOCHA.assign_coords(time=dates)"
   ]
  },
  {
   "cell_type": "code",
   "execution_count": null,
   "id": "652b6ca6-05ce-4fb6-a82f-edb6aa4989b0",
   "metadata": {},
   "outputs": [],
   "source": [
    "RAPID_transports_monthly=RAPID_transports.resample(time=\"M\").mean().moc_mar_hc10\n",
    "ds_RAPID_MOCHA_monthly=ds_RAPID_MOCHA.resample(time=\"M\").mean().Q_ot\n",
    "RAPID_transports_annual=RAPID_transports.resample(time=\"Y\").mean().moc_mar_hc10\n",
    "ds_RAPID_MOCHA_annual=ds_RAPID_MOCHA.resample(time=\"Y\").mean().Q_ot"
   ]
  },
  {
   "cell_type": "markdown",
   "id": "90ae055d-7805-4644-823d-f168a6595187",
   "metadata": {},
   "source": [
    "## Now compare the different models and the observations:"
   ]
  },
  {
   "cell_type": "code",
   "execution_count": null,
   "id": "6df5bdbe-4954-4ae5-b1cf-2c85becfe8b4",
   "metadata": {
    "tags": []
   },
   "outputs": [],
   "source": [
    "%%time\n",
    "smoothing_level=12   #in months\n",
    "load_data_flag=1\n",
    "fig = plt.figure(figsize=(24,5))\n",
    "start_dates=[]\n",
    "end_dates=[]\n",
    "for keys in run_dict:\n",
    "    \n",
    "    if load_data_flag:\n",
    "        ComputeDiag_dict[keys]['moc_z_resid']=ComputeDiag_dict[keys]['moc_z_resid'].load()\n",
    "    \n",
    "    plt.subplot(1,3,1)\n",
    "    moc_z_resid_sf=(ComputeDiag_dict[keys]['moc_z_resid'].mean('time')/1030/1e6).plot(y='z_l',ylim=[6000,0],label=keys,color=run_dict[keys]['color_identifier'])\n",
    "    plt.subplot(1,3,2)\n",
    "    (ComputeDiag_dict[keys]['moc_z_resid']/1030/1e6).max(dim='z_l').plot(color=run_dict[keys]['color_identifier'],alpha=0.7,linewidth=.5)\n",
    "    (ComputeDiag_dict[keys]['moc_z_resid'].resample(time=\"Y\").mean().max(dim='z_l')/1030/1e6).plot(label=keys,color=run_dict[keys]['color_identifier'])\n",
    "    plt.subplot(1,3,3)\n",
    "    (ComputeDiag_dict[keys]['MOCsig_MHTMFT']['MHT_sum']/1e15).plot(color=run_dict[keys]['color_identifier'],alpha=0.7,linewidth=.5)\n",
    "    (ComputeDiag_dict[keys]['MOCsig_MHTMFT']['MHT_sum']/1e15).resample(time=\"Y\").mean().plot(label=keys,color=run_dict[keys]['color_identifier'])\n",
    "    start_dates.append(ComputeDiag_dict[keys]['moc_z_resid'].time.values[0])\n",
    "    end_dates.append(ComputeDiag_dict[keys]['moc_z_resid'].time.values[-1])\n",
    "plt.subplot(1,3,1)\n",
    "RAPID_streamfunction.stream_function_mar.mean('time').plot(label='obs',y='depth',ylim=[6000,0],color='k')\n",
    "plt.legend()\n",
    "plt.subplot(1,3,2)\n",
    "# plt.fill_between([moc_z_resid.time.values[0],moc_z_resid.time.values[-1]],RAPID_transports_annual.mean()-RAPID_transports_annual.std(),RAPID_transports_annual.mean()+RAPID_transports_annual.std(), alpha=0.2, label='obs (mean+/-std')\n",
    "plt.fill_between([np.min(start_dates),np.max(end_dates)],RAPID_transports_monthly.mean()-RAPID_transports_monthly.std(),RAPID_transports_monthly.mean()+RAPID_transports_monthly.std(), alpha=0.2, label='monthly obs (mean+/-std)')\n",
    "plt.xlabel('time (years)'), plt.ylabel('Sv')\n",
    "plt.title('monthly RAPID MOC '+str(smoothing_level)+'-month smoothing')\n",
    "plt.subplot(1,3,3)\n",
    "plt.fill_between([np.min(start_dates),np.max(end_dates)],(ds_RAPID_MOCHA_monthly.mean()-ds_RAPID_MOCHA_monthly.std())/1e15,(ds_RAPID_MOCHA_monthly.mean()+ds_RAPID_MOCHA_monthly.std())/1e15, alpha=0.2, label='monthly obs (mean+/-std)')\n",
    "plt.xlabel('time (years)'), plt.ylabel('PW')\n",
    "plt.title('monthly RAPID MHT '+str(smoothing_level)+'-month smoothing')\n",
    "plt.legend()"
   ]
  },
  {
   "cell_type": "code",
   "execution_count": null,
   "id": "71855f26-625a-460a-bf68-a7f44cd10efa",
   "metadata": {
    "tags": []
   },
   "outputs": [],
   "source": [
    "%%time\n",
    "smoothing_level=10   #in years\n",
    "load_data_flag=1\n",
    "fig = plt.figure(figsize=(24,5))\n",
    "start_dates=[]\n",
    "end_dates=[]\n",
    "for keys in run_dict:\n",
    "    \n",
    "    if load_data_flag:\n",
    "        ComputeDiag_dict[keys]['moc_z_resid']=ComputeDiag_dict[keys]['moc_z_resid'].load()\n",
    "    \n",
    "    plt.subplot(1,3,1)\n",
    "    moc_z_resid_sf=(ComputeDiag_dict[keys]['moc_z_resid'].mean('time')/1030/1e6).plot(y='z_l',ylim=[6000,0],label=keys,color=run_dict[keys]['color_identifier'])\n",
    "    plt.subplot(1,3,2)\n",
    "    (ComputeDiag_dict[keys]['moc_z_resid']/1030/1e6).resample(time=\"Y\").mean().max(dim='z_l').plot(color=run_dict[keys]['color_identifier'],alpha=0.7,linewidth=.5)\n",
    "    (ComputeDiag_dict[keys]['moc_z_resid']/1030/1e6).resample(time=\"Y\").mean().max(dim='z_l').rolling(time=smoothing_level,center=True).mean().plot(label=keys,color=run_dict[keys]['color_identifier'])\n",
    "    plt.subplot(1,3,3)\n",
    "    # mht_z_ts=(ComputeDiag_dict[keys]['MOCsig_MHTMFT']['MHT_sum']/1e15)\n",
    "    (ComputeDiag_dict[keys]['MOCsig_MHTMFT']['MHT_sum']/1e15).resample(time=\"Y\").mean().plot(color=run_dict[keys]['color_identifier'],alpha=0.7,linewidth=.5)\n",
    "    (ComputeDiag_dict[keys]['MOCsig_MHTMFT']['MHT_sum']/1e15).resample(time=\"Y\").mean().rolling(time=smoothing_level,center=True).mean().plot(label=keys,color=run_dict[keys]['color_identifier'])\n",
    "    start_dates.append(ComputeDiag_dict[keys]['moc_z_resid'].time.values[0])\n",
    "    end_dates.append(ComputeDiag_dict[keys]['moc_z_resid'].time.values[-1])\n",
    "plt.subplot(1,3,1)\n",
    "RAPID_streamfunction.stream_function_mar.mean('time').plot(label='obs',y='depth',ylim=[6000,0],color='k')\n",
    "plt.legend()\n",
    "plt.subplot(1,3,2)\n",
    "# plt.fill_between([moc_z_resid.time.values[0],moc_z_resid.time.values[-1]],RAPID_transports_annual.mean()-RAPID_transports_annual.std(),RAPID_transports_annual.mean()+RAPID_transports_annual.std(), alpha=0.2, label='obs (mean+/-std')\n",
    "plt.fill_between([np.min(start_dates),np.max(end_dates)],RAPID_transports_annual.mean()-RAPID_transports_annual.std(),RAPID_transports_annual.mean()+RAPID_transports_annual.std(), alpha=0.2, label='annual obs (mean+/-std)')\n",
    "plt.xlabel('time (years)'), plt.ylabel('Sv')\n",
    "plt.title('annual RAPID MOC '+str(smoothing_level)+'-year smoothing')\n",
    "plt.subplot(1,3,3)\n",
    "plt.fill_between([np.min(start_dates),np.max(end_dates)],(ds_RAPID_MOCHA_annual.mean()-ds_RAPID_MOCHA_annual.std())/1e15,(ds_RAPID_MOCHA_annual.mean()+ds_RAPID_MOCHA_annual.std())/1e15, alpha=0.2, label='annual obs (mean+/-std)')\n",
    "plt.xlabel('time (years)'), plt.ylabel('PW')\n",
    "plt.title('annual RAPID MHT '+str(smoothing_level)+'-year smoothing')\n",
    "plt.legend()"
   ]
  },
  {
   "cell_type": "code",
   "execution_count": null,
   "id": "16305f34-f5de-4e05-bece-86c9ac332e04",
   "metadata": {},
   "outputs": [],
   "source": [
    "cluster.close()\n",
    "client.close()"
   ]
  },
  {
   "cell_type": "code",
   "execution_count": null,
   "id": "7bf0f18a-4645-4a5c-bb7e-6174914cc7ae",
   "metadata": {},
   "outputs": [],
   "source": [
    "# Done! "
   ]
  }
 ],
 "metadata": {
  "kernelspec": {
   "display_name": "Python 3 (ipykernel)",
   "language": "python",
   "name": "python3"
  },
  "language_info": {
   "codemirror_mode": {
    "name": "ipython",
    "version": 3
   },
   "file_extension": ".py",
   "mimetype": "text/x-python",
   "name": "python",
   "nbconvert_exporter": "python",
   "pygments_lexer": "ipython3",
   "version": "3.9.16"
  }
 },
 "nbformat": 4,
 "nbformat_minor": 5
}
