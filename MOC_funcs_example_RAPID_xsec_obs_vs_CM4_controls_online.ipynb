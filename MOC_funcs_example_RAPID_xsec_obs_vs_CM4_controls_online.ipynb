{
 "cells": [
  {
   "cell_type": "code",
   "execution_count": null,
   "id": "22817d86-53b5-4b20-a2cb-942aab374e98",
   "metadata": {},
   "outputs": [],
   "source": [
    "%matplotlib inline\n",
    "\n",
    "import sys\n",
    "sys.path.insert(0, '/home/Matthew.Thomas/python_code/python_pkgs/MOC_funcs')\n",
    "\n",
    "import xarray as xr\n",
    "import numpy as np\n",
    "import matplotlib.pyplot as plt\n",
    "from matplotlib import gridspec\n",
    "import cartopy.crs as ccrs\n",
    "from numba import njit\n",
    "import sectionate\n",
    "from glob import glob\n",
    "import momlevel\n",
    "from xhistogram.xarray import histogram\n",
    "import MOC_funcs\n",
    "from cmip_basins.basins import generate_basin_codes\n",
    "import julian\n",
    "\n",
    "import warnings\n",
    "warnings.filterwarnings('ignore')"
   ]
  },
  {
   "cell_type": "code",
   "execution_count": null,
   "id": "8843b6c9-c756-4b7f-8c26-33958839d569",
   "metadata": {},
   "outputs": [],
   "source": [
    "# import dask\n",
    "# from dask.distributed import Client\n",
    "# from dask_jobqueue import SLURMCluster\n",
    "# dask.config.set(**{'array.slicing.split_large_chunks': False})\n",
    "\n",
    "# portdash = 18224\n",
    "# # portdash = 18234\n",
    "\n",
    "# cluster = SLURMCluster(\n",
    "#     queue=\"batch\",\n",
    "#     cores=8,\n",
    "#     processes=4,\n",
    "#     project=\"gfdl_o\",\n",
    "#     memory=\"48GB\",\n",
    "#     walltime=\"16:00:00\",\n",
    "#     local_directory=\"$TMPDIR\",\n",
    "#     death_timeout=120,\n",
    "#     scheduler_options={\"dashboard_address\":f\":{portdash}\"},\n",
    "# )\n",
    "\n",
    "# client = Client(cluster)\n",
    "# client"
   ]
  },
  {
   "cell_type": "code",
   "execution_count": null,
   "id": "b6b749db-5c28-4597-9c78-e95061eebf9f",
   "metadata": {},
   "outputs": [],
   "source": [
    "# cluster.scale(jobs=10)"
   ]
  },
  {
   "cell_type": "code",
   "execution_count": null,
   "id": "6bae457d-db9e-415f-b756-e8dd52aa05a3",
   "metadata": {
    "tags": []
   },
   "outputs": [],
   "source": [
    "run_dict = {\n",
    "                'odiv209' : {\n",
    "                             'dir_vars' : \"/archive/Raphael.Dussin/FMS2019.01.03_devgfdl_20210706/CM4_piControl_c192_OM4p125_v7/gfdl.ncrc4-intel18-prod-openmp/pp/ocean_annual_z/ts/annual/10yr/\",\n",
    "                             'dir_eddy_vars' : \"/archive/Raphael.Dussin/FMS2019.01.03_devgfdl_20210706/CM4_piControl_c192_OM4p125_v7/gfdl.ncrc4-intel18-prod-openmp/pp/ocean_annual_z_d2/ts/annual/10yr/\",\n",
    "                             'dir_grid' : \"/archive/Raphael.Dussin/FMS2019.01.03_devgfdl_20210706/CM4_piControl_c192_OM4p125_v7/gfdl.ncrc4-intel18-prod-openmp/pp/ocean_annual_z/ocean_annual_z.static.nc\",\n",
    "                             'dir_grid_eddy' : \"/archive/Raphael.Dussin/FMS2019.01.03_devgfdl_20210706/CM4_piControl_c192_OM4p125_v7/gfdl.ncrc4-intel18-prod-openmp/pp/ocean_annual_z_d2/ocean_annual_z_d2.static.nc\",\n",
    "                             'file_str_identifier' : \"*\",\n",
    "                             'lat_range' : [26.3], \n",
    "                             'basin_list': [2],\n",
    "                             'z_layer_var' : \"z_l\",\n",
    "                             'z_inter_var' : \"z_i\",\n",
    "                             'color_identifier' : 'b',\n",
    "                             },\n",
    "                'odiv230' : {\n",
    "                             'dir_vars' : \"/archive/Raphael.Dussin/FMS2019.01.03_devgfdl_20221223/CM4_piControl_c192_OM4p25_v8/gfdl.ncrc4-intel18-prod-openmp/pp/ocean_annual_z/ts/annual/10yr/\",\n",
    "                             'dir_eddy_vars' : \"/archive/Raphael.Dussin/FMS2019.01.03_devgfdl_20221223/CM4_piControl_c192_OM4p25_v8/gfdl.ncrc4-intel18-prod-openmp/pp/ocean_annual_z/ts/annual/10yr/\",\n",
    "                             'dir_grid' : \"/archive/Raphael.Dussin/FMS2019.01.03_devgfdl_20221223/CM4_piControl_c192_OM4p25_v8/gfdl.ncrc4-intel18-prod-openmp/pp/ocean_annual_z/ocean_annual_z.static.nc\",\n",
    "                             'dir_grid_eddy' : \"/archive/Raphael.Dussin/FMS2019.01.03_devgfdl_20221223/CM4_piControl_c192_OM4p25_v8/gfdl.ncrc4-intel18-prod-openmp/pp/ocean_annual_z/ocean_annual_z.static.nc\",\n",
    "                             'file_str_identifier' : \"*\",\n",
    "                             'lat_range' : [26.3],\n",
    "                             'basin_list': [2],\n",
    "                             'z_layer_var' : \"z_l\",\n",
    "                             'z_inter_var' : \"z_i\",\n",
    "                             'color_identifier' : 'yellow',\n",
    "                             },\n",
    "                'odiv1' :   {\n",
    "                             'dir_vars' : \"/archive/oar.gfdl.cmip6/CM4/warsaw_201710_om4_v1.0.1/CM4_piControl_C/gfdl.ncrc4-intel16-prod-openmp/pp/ocean_annual_z/ts/annual/5yr/\",\n",
    "                             'dir_eddy_vars' : \"/archive/oar.gfdl.cmip6/CM4/warsaw_201710_om4_v1.0.1/CM4_piControl_C/gfdl.ncrc4-intel16-prod-openmp/pp/ocean_annual_z/ts/annual/5yr/\",\n",
    "                             'dir_grid' : \"/archive/oar.gfdl.cmip6/CM4/warsaw_201710_om4_v1.0.1/CM4_piControl_C/gfdl.ncrc4-intel16-prod-openmp/pp/ocean_annual_z/ocean_annual_z.static.nc\",\n",
    "                             'dir_grid_eddy' : \"/archive/oar.gfdl.cmip6/CM4/warsaw_201710_om4_v1.0.1/CM4_piControl_C/gfdl.ncrc4-intel16-prod-openmp/pp/ocean_annual_z/ocean_annual_z.static.nc\",\n",
    "                             'file_str_identifier' : \"*.0[0-2]*\",\n",
    "                             'lat_range' : [26.3],\n",
    "                             'basin_list': [2],\n",
    "                             'z_layer_var' : \"z_l\",\n",
    "                             'z_inter_var' : \"z_i\",\n",
    "                             'color_identifier' : 'pink',\n",
    "                             },\n",
    "        }"
   ]
  },
  {
   "cell_type": "code",
   "execution_count": null,
   "id": "18e3950b-40e3-4756-a342-b668a586d305",
   "metadata": {
    "tags": []
   },
   "outputs": [],
   "source": [
    "%%time\n",
    "### AMOCz in CM4hires\n",
    "\n",
    "dmgetout_flag = False\n",
    "integrate_downwards_flag=False\n",
    "zarr_dir='/xtmp/Matthew.Thomas/work'\n",
    "\n",
    "ComputeDiag_dict = {}\n",
    "if dmgetout_flag: print(f'run the following dmget commands:')\n",
    "for keys in run_dict:\n",
    "    ds_z_online, grid_z_online, moc_z_online, vmo_zonmean_online = MOC_funcs.MOC_basin_latrange_online(dir_vars=run_dict[keys]['dir_vars'],dir_grid=run_dict[keys]['dir_grid'],file_str_identifier=run_dict[keys]['file_str_identifier'],lat_range=run_dict[keys]['lat_range'],basin_list=run_dict[keys]['basin_list'],z_layer_var=run_dict[keys]['z_layer_var'],z_inter_var=run_dict[keys]['z_inter_var'],decode_times_flag=True,dmgetout=dmgetout_flag,zarr_dir=zarr_dir)\n",
    "    ds_z_heat, grid_z_heat, moc_z_heat, vmo_zonmean_heat = MOC_funcs.MOC_basin_latrange_online(dir_vars=run_dict[keys]['dir_eddy_vars'],dir_grid=run_dict[keys]['dir_grid_eddy'],file_str_identifier=run_dict[keys]['file_str_identifier'],lat_range=run_dict[keys]['lat_range'],basin_list=run_dict[keys]['basin_list'],z_layer_var=run_dict[keys]['z_layer_var'],z_inter_var=run_dict[keys]['z_inter_var'],decode_times_flag=True,v_transport_var=\"T_ady\",dmgetout=dmgetout_flag,zarr_dir=zarr_dir)\n",
    "    ds_z_eddy, grid_eddy, moc_z_eddy, vmo_z_zonmean_eddy = MOC_funcs.MOC_basin_latrange_online(dir_vars=run_dict[keys]['dir_eddy_vars'],dir_grid=run_dict[keys]['dir_grid_eddy'],file_str_identifier=run_dict[keys]['file_str_identifier'],lat_range=run_dict[keys]['lat_range'],basin_list=run_dict[keys]['basin_list'],z_layer_var=run_dict[keys]['z_layer_var'],z_inter_var=run_dict[keys]['z_inter_var'],decode_times_flag=True,v_transport_var=\"vhml\",dmgetout=dmgetout_flag,zarr_dir=zarr_dir)\n",
    "    \n",
    "    if len(ds_z_online)>0:\n",
    "        MHT_online=ds_z_heat.sum(dim=['xh','z_l'])\n",
    "        \n",
    "        ds_z_eddy['time']=ds_z_online['time']\n",
    "        polarity_multiplier=1 if integrate_downwards_flag else -1\n",
    "        moc_z_resid=polarity_multiplier*((ds_z_online.vmo.sum('xh').sortby('z_l', ascending=integrate_downwards_flag).cumsum('z_l'))-(ds_z_eddy.vhml.rename('vmo').sum('xh').sortby('z_l', ascending=integrate_downwards_flag).cumsum('z_l')))\n",
    "\n",
    "        ComputeDiag_dict[keys]={\n",
    "                                'MHT_online' : MHT_online, 'moc_z_resid' : moc_z_resid,\n",
    "                                'ds_z_online' : ds_z_online, 'grid_z_online' : grid_z_online, 'moc_z_online' : moc_z_online, 'vmo_zonmean_online' : vmo_zonmean_online,\n",
    "                                'ds_z_eddy' : ds_z_eddy, 'moc_z_eddy' : moc_z_eddy, 'vmo_z_zonmean_eddy' : vmo_z_zonmean_eddy,\n",
    "                                }"
   ]
  },
  {
   "cell_type": "code",
   "execution_count": null,
   "id": "dafdaf60-329c-48bb-a49f-223749ef0a76",
   "metadata": {},
   "outputs": [],
   "source": [
    "### Now load RAPID observations"
   ]
  },
  {
   "cell_type": "code",
   "execution_count": null,
   "id": "a972dd0a-3246-489b-ae65-4225c7536e7f",
   "metadata": {},
   "outputs": [],
   "source": [
    "### Load RAPID volume transport\n",
    "RAPID_streamfunction=xr.open_dataset('/home/Matthew.Thomas/archive/data/RAPID/moc_vertical.nc',decode_times=True)\n",
    "RAPID_transports=xr.open_dataset('/home/Matthew.Thomas/archive/data/RAPID/moc_transports.nc',decode_times=True)"
   ]
  },
  {
   "cell_type": "code",
   "execution_count": null,
   "id": "021f55dc-041a-407e-8422-269130a44859",
   "metadata": {},
   "outputs": [],
   "source": [
    "### Load RAPID heat transport\n",
    "#See this page for details for the RAPID-MOCHA variable names: https://docs.google.com/document/d/1TEbVP5dd9dot9_IWUlRc0ipg-eAdzZ1_/edit\n",
    "ds_RAPID_MOCHA=xr.open_dataset('/home/Matthew.Thomas/archive/data/RAPID/mocha_mht_data_ERA5_v2018_2.nc',decode_times=True)\n",
    "dates = [julian.from_jd(x) for x in ds_RAPID_MOCHA.julian_day]  # list-comprehension for converting the julian days into calendar dates\n",
    "ds_RAPID_MOCHA = ds_RAPID_MOCHA.assign_coords(time=dates) # Assign these calendar dates to a new coordinate called 'time'. "
   ]
  },
  {
   "cell_type": "code",
   "execution_count": null,
   "id": "652b6ca6-05ce-4fb6-a82f-edb6aa4989b0",
   "metadata": {},
   "outputs": [],
   "source": [
    "# Resample the twice-daily data into monthly data (Note that .resample is a .groupby operation that is specific to time)\n",
    "RAPID_transports_annual=RAPID_transports.resample(time=\"Y\").mean().moc_mar_hc10\n",
    "ds_RAPID_MOCHA_annual=ds_RAPID_MOCHA.resample(time=\"Y\").mean().Q_ot"
   ]
  },
  {
   "cell_type": "code",
   "execution_count": null,
   "id": "60176b87-8f5b-4f5f-9b1c-e20935d4d60e",
   "metadata": {
    "tags": []
   },
   "outputs": [],
   "source": [
    "%%time\n",
    "smoothing_level=10   #in years\n",
    "load_data_flag=1\n",
    "fig = plt.figure(figsize=(24,5))\n",
    "start_dates=[]\n",
    "end_dates=[]\n",
    "for keys in run_dict:\n",
    "    \n",
    "    if load_data_flag:\n",
    "        ComputeDiag_dict[keys]['moc_z_resid']=ComputeDiag_dict[keys]['moc_z_resid'].load()\n",
    "        ComputeDiag_dict[keys]['MHT_online']=ComputeDiag_dict[keys]['MHT_online'].load()\n",
    "    \n",
    "    plt.subplot(1,3,1)\n",
    "    moc_z_resid_sf=(ComputeDiag_dict[keys]['moc_z_resid'].mean('time')/1030/1e6).plot(y='z_l',ylim=[6000,0],label=keys,color=run_dict[keys]['color_identifier'])\n",
    "    plt.subplot(1,3,2)\n",
    "    moc_z_resid_ts=(ComputeDiag_dict[keys]['moc_z_resid'].where(ComputeDiag_dict[keys]['moc_z_resid'].z_l>500).max(dim='z_l')/1030/1e6)\n",
    "    moc_z_resid_ts.plot(color=run_dict[keys]['color_identifier'],alpha=0.7,linewidth=.5)\n",
    "    moc_z_resid_ts.rolling(time=smoothing_level,center=True).mean().plot(label=keys,color=run_dict[keys]['color_identifier'])\n",
    "    plt.subplot(1,3,3)\n",
    "    mht_z_ts=(ComputeDiag_dict[keys]['MHT_online'].T_ady/1e15)\n",
    "    mht_z_ts.plot(color=run_dict[keys]['color_identifier'],alpha=0.7,linewidth=.5)\n",
    "    mht_z_ts.rolling(time=smoothing_level,center=True).mean().plot(label=keys,color=run_dict[keys]['color_identifier'])\n",
    "    start_dates.append(ComputeDiag_dict[keys]['moc_z_resid'].time.values[0])\n",
    "    end_dates.append(ComputeDiag_dict[keys]['moc_z_resid'].time.values[-1])\n",
    "plt.subplot(1,3,1)\n",
    "RAPID_streamfunction.stream_function_mar.mean('time').plot(label='obs',y='depth',ylim=[6000,0],color='k')\n",
    "plt.legend()\n",
    "plt.subplot(1,3,2)\n",
    "# plt.fill_between([moc_z_resid.time.values[0],moc_z_resid.time.values[-1]],RAPID_transports_annual.mean()-RAPID_transports_annual.std(),RAPID_transports_annual.mean()+RAPID_transports_annual.std(), alpha=0.2, label='obs (mean+/-std')\n",
    "plt.fill_between([np.min(start_dates),np.max(end_dates)],RAPID_transports_annual.mean()-RAPID_transports_annual.std(),RAPID_transports_annual.mean()+RAPID_transports_annual.std(), alpha=0.2, label='annual obs (mean+/-std)')\n",
    "plt.xlabel('time (years)'), plt.ylabel('Sv')\n",
    "plt.title('annual RAPID MOC, '+str(smoothing_level)+'-year smoothing')\n",
    "plt.subplot(1,3,3)\n",
    "plt.fill_between([np.min(start_dates),np.max(end_dates)],(ds_RAPID_MOCHA_annual.mean()-ds_RAPID_MOCHA_annual.std())/1e15,(ds_RAPID_MOCHA_annual.mean()+ds_RAPID_MOCHA_annual.std())/1e15, alpha=0.2, label='annual obs (mean+/-std)')\n",
    "plt.xlabel('time (years)'), plt.ylabel('PW')\n",
    "plt.title('annual RAPID MHT, '+str(smoothing_level)+'-year smoothing')\n",
    "plt.legend()"
   ]
  },
  {
   "cell_type": "code",
   "execution_count": null,
   "id": "16305f34-f5de-4e05-bece-86c9ac332e04",
   "metadata": {},
   "outputs": [],
   "source": [
    "cluster.close()\n",
    "client.close()"
   ]
  },
  {
   "cell_type": "code",
   "execution_count": null,
   "id": "7bf0f18a-4645-4a5c-bb7e-6174914cc7ae",
   "metadata": {},
   "outputs": [],
   "source": [
    "# Done! "
   ]
  }
 ],
 "metadata": {
  "kernelspec": {
   "display_name": "Python 3 (ipykernel)",
   "language": "python",
   "name": "python3"
  },
  "language_info": {
   "codemirror_mode": {
    "name": "ipython",
    "version": 3
   },
   "file_extension": ".py",
   "mimetype": "text/x-python",
   "name": "python",
   "nbconvert_exporter": "python",
   "pygments_lexer": "ipython3",
   "version": "3.9.16"
  }
 },
 "nbformat": 4,
 "nbformat_minor": 5
}
