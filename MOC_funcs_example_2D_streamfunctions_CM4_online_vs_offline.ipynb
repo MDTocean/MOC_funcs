{
 "cells": [
  {
   "cell_type": "code",
   "execution_count": null,
   "id": "367b1aa9-e0c3-474d-aecd-112b54a14717",
   "metadata": {},
   "outputs": [],
   "source": [
    "### Calculates and plots the 2D AMOC streamfunction in sig- and z- space, for all models listed in the run dictionary (run_dict)\n",
    "### The AMOCsig calculation is done a number of ways, mostly for demonstration purposes, but also to compare the different ways of calculating:  \n",
    "### 1) Sigma2 using online output\n",
    "### 2) Sigma0 using offline output\n",
    "### 3) Sigma2 using offline output (for comparison of the offline method to the online truth)"
   ]
  },
  {
   "cell_type": "code",
   "execution_count": null,
   "id": "e9c4712f-cd08-4e92-ba19-84b99bf235cd",
   "metadata": {
    "tags": []
   },
   "outputs": [],
   "source": [
    "%matplotlib inline\n",
    "\n",
    "import sys\n",
    "sys.path.insert(0, '/home/Matthew.Thomas/python_code/python_pkgs/MOC_funcs')\n",
    "\n",
    "import xarray as xr\n",
    "import numpy as np\n",
    "import matplotlib.pyplot as plt\n",
    "from matplotlib import gridspec\n",
    "import cartopy.crs as ccrs\n",
    "from numba import njit\n",
    "import sectionate\n",
    "from glob import glob\n",
    "import momlevel\n",
    "from xhistogram.xarray import histogram\n",
    "import MOC_funcs\n",
    "from cmip_basins.basins import generate_basin_codes"
   ]
  },
  {
   "cell_type": "markdown",
   "id": "ff0d589d-869b-4c7f-9829-f5821fdaf5af",
   "metadata": {},
   "source": [
    "### Set up a dask server, if needed:"
   ]
  },
  {
   "cell_type": "code",
   "execution_count": null,
   "id": "15338eaa-c4a7-4682-b3ed-c464341deb63",
   "metadata": {
    "tags": []
   },
   "outputs": [],
   "source": [
    "# import dask\n",
    "# from dask.distributed import Client\n",
    "# from dask_jobqueue import SLURMCluster\n",
    "# dask.config.set(**{'array.slicing.split_large_chunks': False})\n",
    "\n",
    "# portdash = 18224\n",
    "\n",
    "# cluster = SLURMCluster(\n",
    "#     queue=\"batch\",\n",
    "#     cores=8,\n",
    "#     processes=4,\n",
    "#     project=\"gfdl_o\",\n",
    "#     memory=\"48GB\",\n",
    "#     walltime=\"16:00:00\",\n",
    "#     local_directory=\"$TMPDIR\",\n",
    "#     death_timeout=120,\n",
    "#     scheduler_options={\"dashboard_address\":f\":{portdash}\"},\n",
    "# )\n",
    "\n",
    "# client = Client(cluster)\n",
    "# client"
   ]
  },
  {
   "cell_type": "code",
   "execution_count": null,
   "id": "e03dbd50-7694-48b1-8436-2a7a8a350d21",
   "metadata": {
    "tags": []
   },
   "outputs": [],
   "source": [
    "# cluster.scale(jobs=10)"
   ]
  },
  {
   "cell_type": "markdown",
   "id": "25723845-24ac-4ff1-b323-68f57b22cc64",
   "metadata": {},
   "source": [
    "# First calculate online streamfunctions"
   ]
  },
  {
   "cell_type": "code",
   "execution_count": null,
   "id": "453cd4f4-b401-462a-894c-c4f17b39d6fa",
   "metadata": {
    "tags": []
   },
   "outputs": [],
   "source": [
    "run_dict = {\n",
    "                'odiv209' : {\n",
    "                             'density_vars_path' : \"/archive/Raphael.Dussin/FMS2019.01.03_devgfdl_20210706/CM4_piControl_c192_OM4p125_v7/gfdl.ncrc4-intel18-prod-openmp/pp/ocean_annual_rho2/ts/annual/10yr/\",\n",
    "                             'depth_vars_path' : \"/archive/Raphael.Dussin/FMS2019.01.03_devgfdl_20210706/CM4_piControl_c192_OM4p125_v7/gfdl.ncrc4-intel18-prod-openmp/pp/ocean_annual_z/ts/annual/10yr/\",\n",
    "                             'grid_path' : \"/archive/Raphael.Dussin/FMS2019.01.03_devgfdl_20210706/CM4_piControl_c192_OM4p125_v7/gfdl.ncrc4-intel18-prod-openmp/pp/ocean_annual_z/ocean_annual_z.static.nc\",\n",
    "                             'file_str_identifier' : \"*.0211*\",\n",
    "                             'lat_range' : [40,65],\n",
    "                             'basin_list': [2,6,7],\n",
    "                             'z_layer_var' : \"z_l\",\n",
    "                             'z_inter_var' : \"z_i\"\n",
    "                             },\n",
    "                'odiv1' :   {\n",
    "                             'density_vars_path' : \"/archive/oar.gfdl.cmip6/CM4/warsaw_201710_om4_v1.0.1/CM4_piControl_C/gfdl.ncrc4-intel16-prod-openmp/pp/ocean_annual_rho2/ts/annual/5yr/\",\n",
    "                             'depth_vars_path' : \"/archive/oar.gfdl.cmip6/CM4/warsaw_201710_om4_v1.0.1/CM4_piControl_C/gfdl.ncrc4-intel16-prod-openmp/pp/ocean_annual_z/ts/annual/5yr/\",\n",
    "                             'grid_path' : \"/archive/oar.gfdl.cmip6/CM4/warsaw_201710_om4_v1.0.1/CM4_piControl_C/gfdl.ncrc4-intel16-prod-openmp/pp/ocean_annual_z/ocean_annual_z.static.nc\",\n",
    "                             'file_str_identifier' : \"*.0211*\",\n",
    "                             'lat_range' : [40,65],\n",
    "                             'basin_list': [2,6,7],\n",
    "                             'z_layer_var' : \"z_l\",\n",
    "                             'z_inter_var' : \"z_i\"\n",
    "                             },\n",
    "                'odiv230' : {\n",
    "                             'density_vars_path' : \"/archive/Raphael.Dussin/FMS2019.01.03_devgfdl_20221223/CM4_piControl_c192_OM4p25_v8/gfdl.ncrc4-intel18-prod-openmp/pp/ocean_annual_rho2/ts/annual/10yr/\",\n",
    "                             'depth_vars_path' : \"/archive/Raphael.Dussin/FMS2019.01.03_devgfdl_20221223/CM4_piControl_c192_OM4p25_v8/gfdl.ncrc4-intel18-prod-openmp/pp/ocean_annual_z/ts/annual/10yr/\",\n",
    "                             'grid_path' : \"/archive/Raphael.Dussin/FMS2019.01.03_devgfdl_20221223/CM4_piControl_c192_OM4p25_v8/gfdl.ncrc4-intel18-prod-openmp/pp/ocean_annual_z/ocean_annual_z.static.nc\",\n",
    "                             'file_str_identifier' : \"*.0211*\",\n",
    "                             'lat_range' : [40,65],\n",
    "                             'basin_list': [2,6,7],\n",
    "                             'z_layer_var' : \"z_l\",\n",
    "                             'z_inter_var' : \"z_i\"\n",
    "                             },\n",
    "                'odiv231' : {\n",
    "                             'density_vars_path' : \"/archive/Raphael.Dussin/FMS2019.01.03_devgfdl_20221223/CM4_historical_c192_OM4p25/gfdl.ncrc4-intel18-prod-openmp/pp/ocean_annual_rho2/ts/annual/10yr/\",\n",
    "                             'depth_vars_path' : \"/archive/Raphael.Dussin/FMS2019.01.03_devgfdl_20221223/CM4_historical_c192_OM4p25/gfdl.ncrc4-intel18-prod-openmp/pp/ocean_annual_z/ts/annual/10yr/\",\n",
    "                             'grid_path' : \"/archive/Raphael.Dussin/FMS2019.01.03_devgfdl_20221223/CM4_historical_c192_OM4p25/gfdl.ncrc4-intel18-prod-openmp/pp/ocean_annual_z/ocean_annual_z.static.nc\",\n",
    "                             'file_str_identifier' : \"*.1960*\",\n",
    "                             'lat_range' : [40,65],\n",
    "                             'basin_list': [2,6,7],\n",
    "                             'z_layer_var' : \"z_l\",\n",
    "                             'z_inter_var' : \"z_i\"\n",
    "                             },\n",
    "                'odiv232' : {\n",
    "                             'density_vars_path' : \"/archive/Raphael.Dussin/FMS2019.01.03_devgfdl_20221223/CM4_ssp585_c192_OM4p25/gfdl.ncrc4-intel18-prod-openmp/pp/ocean_annual_rho2/ts/annual/10yr/\",\n",
    "                             'depth_vars_path' : \"/archive/Raphael.Dussin/FMS2019.01.03_devgfdl_20221223/CM4_ssp585_c192_OM4p25/gfdl.ncrc4-intel18-prod-openmp/pp/ocean_annual_z/ts/annual/10yr/\",\n",
    "                             'grid_path' : \"/archive/Raphael.Dussin/FMS2019.01.03_devgfdl_20221223/CM4_ssp585_c192_OM4p25/gfdl.ncrc4-intel18-prod-openmp/pp/ocean_annual_z/ocean_annual_z.static.nc\",\n",
    "                             'file_str_identifier' : \"*.2060*\",\n",
    "                             'lat_range' : [40,65],\n",
    "                             'basin_list': [2,6,7],\n",
    "                             'z_layer_var' : \"z_l\",\n",
    "                             'z_inter_var' : \"z_i\"\n",
    "                             },\n",
    "                'odiv2' :   {\n",
    "                             'density_vars_path' : \"/archive/oar.gfdl.cmip6/CM4/warsaw_201710_om4_v1.0.1/CM4_historical/gfdl.ncrc4-intel16-prod-openmp/pp/ocean_annual_rho2/ts/annual/5yr/\",\n",
    "                             'depth_vars_path' : \"/archive/oar.gfdl.cmip6/CM4/warsaw_201710_om4_v1.0.1/CM4_historical/gfdl.ncrc4-intel16-prod-openmp/pp/ocean_annual_z/ts/annual/5yr/\",\n",
    "                             'grid_path' : \"/archive/oar.gfdl.cmip6/CM4/warsaw_201710_om4_v1.0.1/CM4_historical/gfdl.ncrc4-intel16-prod-openmp/pp/ocean_annual_z/ocean_annual_z.static.nc\",\n",
    "                             'file_str_identifier' : \"*.1960*\",\n",
    "                             'lat_range' : [40,65],\n",
    "                             'basin_list': [2,6,7],\n",
    "                             'z_layer_var' : \"z_l\",\n",
    "                             'z_inter_var' : \"z_i\"\n",
    "                             },\n",
    "                'odiv2_ssp585' :   {\n",
    "                             'density_vars_path' : \"/archive/oar.gfdl.cmip6/CM4/warsaw_201803_om4_v1.0.1/CM4_Scenario_ssp585/gfdl.ncrc4-intel16-prod-openmp/pp/ocean_annual_rho2/ts/annual/5yr/\",\n",
    "                             'depth_vars_path' : \"/archive/oar.gfdl.cmip6/CM4/warsaw_201803_om4_v1.0.1/CM4_Scenario_ssp585/gfdl.ncrc4-intel16-prod-openmp/pp/ocean_annual_z/ts/annual/5yr/\",\n",
    "                             'grid_path' : \"/archive/oar.gfdl.cmip6/CM4/warsaw_201803_om4_v1.0.1/CM4_Scenario_ssp585/gfdl.ncrc4-intel16-prod-openmp/pp/ocean_annual_z/ocean_annual_z.static.nc\",\n",
    "                             'file_str_identifier' : \"*.2060*\",\n",
    "                             'lat_range' : [40,65],\n",
    "                             'basin_list': [2,6,7],\n",
    "                             'z_layer_var' : \"z_l\",\n",
    "                             'z_inter_var' : \"z_i\"\n",
    "                             },\n",
    "            }"
   ]
  },
  {
   "cell_type": "code",
   "execution_count": null,
   "id": "a7bdb008-5846-425b-beea-df184a35e755",
   "metadata": {
    "tags": []
   },
   "outputs": [],
   "source": [
    "%%time\n",
    "### AMOCz in CM4hires\n",
    "ComputeDiag_dict_Online = {}\n",
    "dmgetout_flag = False\n",
    "zarr_dir='/xtmp/Matthew.Thomas/work'\n",
    "if dmgetout_flag: print(f'run the following dmget commands:')\n",
    "for keys in run_dict:\n",
    "    ds_sig, grid_sig, moc_sig, vmo_sig_zonmean = MOC_funcs.MOC_basin_latrange_online(dir_vars=run_dict[keys]['density_vars_path'],dir_grid=run_dict[keys]['grid_path'],file_str_identifier=run_dict[keys]['file_str_identifier'],lat_range=run_dict[keys]['lat_range'],basin_list=run_dict[keys]['basin_list'],decode_times_flag=False,dmgetout=dmgetout_flag,zarr_dir=zarr_dir)\n",
    "    ds_z, grid_z, moc_z, vmo_z_zonmean = MOC_funcs.MOC_basin_latrange_online(dir_vars=run_dict[keys]['depth_vars_path'],dir_grid=run_dict[keys]['grid_path'],file_str_identifier=run_dict[keys]['file_str_identifier'],lat_range=run_dict[keys]['lat_range'],basin_list=run_dict[keys]['basin_list'],z_layer_var=run_dict[keys]['z_layer_var'],z_inter_var=run_dict[keys]['z_inter_var'],decode_times_flag=False,dmgetout=dmgetout_flag,zarr_dir=zarr_dir)\n",
    "    if len(ds_sig)>0:\n",
    "        AMOCsig_sf=ds_sig.vmo.mean('time').fillna(0).sum('xh').cumsum('rho2_l')/1e6/1030\n",
    "        AMOCz_sf=ds_z.vmo.mean('time').fillna(0).sum('xh').cumsum('z_l')/1e6/1030    \n",
    "        ComputeDiag_dict_Online[keys]={\n",
    "                                'ds_z' : ds_z, 'grid_z' : grid_z , 'moc_z': moc_z, 'vmo_z_zonmean' : vmo_z_zonmean, 'AMOCsig_sf' : AMOCsig_sf,\n",
    "                                'ds_sig' : ds_sig, 'grid_sig' : grid_sig , 'moc_sig': moc_sig, 'vmo_sig_zonmean' : vmo_sig_zonmean, 'AMOCz_sf' : AMOCz_sf,\n",
    "                                }"
   ]
  },
  {
   "cell_type": "code",
   "execution_count": null,
   "id": "cea1422a-1571-42ea-8eb1-f555abb95e8a",
   "metadata": {
    "tags": []
   },
   "outputs": [],
   "source": [
    "load_data_flag=1\n",
    "fig = plt.figure(figsize=(16,len(ComputeDiag_dict_Online.keys())*5))\n",
    "subplot_num=1\n",
    "for keys in run_dict:\n",
    "    \n",
    "    if load_data_flag:\n",
    "        ComputeDiag_dict_Online[keys]['AMOCsig_sf']=ComputeDiag_dict_Online[keys]['AMOCsig_sf'].load()\n",
    "        ComputeDiag_dict_Online[keys]['AMOCz_sf']=ComputeDiag_dict_Online[keys]['AMOCz_sf'].load()\n",
    "    \n",
    "    ax = fig.add_subplot(len(ComputeDiag_dict_Online.keys()),2,(subplot_num*2)-1)\n",
    "    ComputeDiag_dict_Online[keys]['AMOCsig_sf'].plot.contourf(vmin=-10,vmax=24,levels=60,ylim=[1038,1030],cmap='RdBu_r')\n",
    "    plt.title('AMOCsig for years '+run_dict[keys]['file_str_identifier']+'. Run '+keys)\n",
    "    plt.xlabel('')\n",
    "    ax = fig.add_subplot(len(ComputeDiag_dict_Online.keys()),2,subplot_num*2)\n",
    "    ComputeDiag_dict_Online[keys]['AMOCz_sf'].plot.contourf(vmin=-5,vmax=20,levels=30,ylim=[6000,0],cmap='RdBu_r')\n",
    "    plt.fill_between(ComputeDiag_dict_Online[keys]['grid_z'].yh,ComputeDiag_dict_Online[keys]['grid_z'].deptho.where(ComputeDiag_dict_Online[keys]['grid_z'].deptho.xh>-80).max(dim='xh'),8000,color='k')\n",
    "    plt.title('AMOCz for years '+run_dict[keys]['file_str_identifier']+'. Run '+keys)\n",
    "    plt.xlabel('')\n",
    "    subplot_num+=1"
   ]
  },
  {
   "cell_type": "markdown",
   "id": "bdd64246-427b-4959-b288-cad569696f4e",
   "metadata": {
    "tags": []
   },
   "source": [
    "# Now calculate offline streamfunctions ..."
   ]
  },
  {
   "cell_type": "code",
   "execution_count": null,
   "id": "a691b475-1b42-4e39-a81f-9d051d63e5e0",
   "metadata": {
    "tags": []
   },
   "outputs": [],
   "source": [
    "run_dict = {\n",
    "                'odiv209' : {\n",
    "                             'depth_vars_path' : \"/archive/Raphael.Dussin/FMS2019.01.03_devgfdl_20210706/CM4_piControl_c192_OM4p125_v7/gfdl.ncrc4-intel18-prod-openmp/pp/ocean_month_z/ts/monthly/5yr/\",\n",
    "                             'grid_path' : \"/archive/Raphael.Dussin/FMS2019.01.03_devgfdl_20210706/CM4_piControl_c192_OM4p125_v7/gfdl.ncrc4-intel18-prod-openmp/pp/ocean_month_z/ocean_month_z.static.nc\",\n",
    "                             'file_str_identifier' : \"*.0211*\",\n",
    "                             'lat_range' : [40,65],\n",
    "                             'basin_list': [2,6,7],\n",
    "                             'z_layer_var' : \"z_l\",\n",
    "                             'z_inter_var' : \"z_i\"\n",
    "                             },\n",
    "                'odiv1' :   {\n",
    "                             'depth_vars_path' : \"/archive/oar.gfdl.cmip6/CM4/warsaw_201710_om4_v1.0.1/CM4_piControl_C/gfdl.ncrc4-intel16-prod-openmp/pp/ocean_monthly_z/ts/monthly/5yr/\",\n",
    "                             'grid_path' : \"/archive/oar.gfdl.cmip6/CM4/warsaw_201710_om4_v1.0.1/CM4_piControl_C/gfdl.ncrc4-intel16-prod-openmp/pp/ocean_monthly_z/ocean_monthly_z.static.nc\",\n",
    "                             'file_str_identifier' : \"*.0211*\",\n",
    "                             'lat_range' : [40,65],\n",
    "                             'basin_list': [2,6,7],\n",
    "                             'z_layer_var' : \"z_l\",\n",
    "                             'z_inter_var' : \"z_i\"\n",
    "                             },\n",
    "\n",
    "                'odiv231' : {\n",
    "                             'depth_vars_path' : \"/archive/Raphael.Dussin/FMS2019.01.03_devgfdl_20221223/CM4_historical_c192_OM4p25/gfdl.ncrc4-intel18-prod-openmp/pp/ocean_monthly_z/ts/monthly/5yr/\",\n",
    "                             'grid_path' : \"/archive/Raphael.Dussin/FMS2019.01.03_devgfdl_20221223/CM4_historical_c192_OM4p25/gfdl.ncrc4-intel18-prod-openmp/pp/ocean_monthly_z/ocean_monthly_z.static.nc\",\n",
    "                             'file_str_identifier' : \"*.1960*\",\n",
    "                             'lat_range' : [40,65],\n",
    "                             'basin_list': [2,6,7],\n",
    "                             'z_layer_var' : \"z_l\",\n",
    "                             'z_inter_var' : \"z_i\"\n",
    "                             },\n",
    "                'odiv232' : {\n",
    "                             'depth_vars_path' : \"/archive/Raphael.Dussin/FMS2019.01.03_devgfdl_20221223/CM4_ssp585_c192_OM4p25/gfdl.ncrc4-intel18-prod-openmp/pp/ocean_monthly_z/ts/monthly/5yr/\",\n",
    "                             'grid_path' : \"/archive/Raphael.Dussin/FMS2019.01.03_devgfdl_20221223/CM4_ssp585_c192_OM4p25/gfdl.ncrc4-intel18-prod-openmp/pp/ocean_monthly_z/ocean_monthly_z.static.nc\",\n",
    "                             'file_str_identifier' : \"*.2060*\",\n",
    "                             'lat_range' : [40,65],\n",
    "                             'basin_list': [2,6,7],\n",
    "                             'z_layer_var' : \"z_l\",\n",
    "                             'z_inter_var' : \"z_i\"\n",
    "                             },    \n",
    "                'odiv2' :   {\n",
    "                             'depth_vars_path' : \"/archive/oar.gfdl.cmip6/CM4/warsaw_201710_om4_v1.0.1/CM4_historical/gfdl.ncrc4-intel16-prod-openmp/pp/ocean_monthly_z/ts/monthly/5yr/\",\n",
    "                             'grid_path' : \"/archive/oar.gfdl.cmip6/CM4/warsaw_201710_om4_v1.0.1/CM4_historical/gfdl.ncrc4-intel16-prod-openmp/pp/ocean_monthly_z/ocean_monthly_z.static.nc\",\n",
    "                             'file_str_identifier' : \"*.1960*\",\n",
    "                             'lat_range' : [40,65],\n",
    "                             'basin_list': [2,6,7],\n",
    "                             'z_layer_var' : \"z_l\",\n",
    "                             'z_inter_var' : \"z_i\"\n",
    "                             },\n",
    "                'odiv2_ssp585' :   {\n",
    "                             'depth_vars_path' : \"/archive/oar.gfdl.cmip6/CM4/warsaw_201803_om4_v1.0.1/CM4_Scenario_ssp585/gfdl.ncrc4-intel16-prod-openmp/pp/ocean_monthly_z/ts/monthly/5yr/\",\n",
    "                             'grid_path' : \"/archive/oar.gfdl.cmip6/CM4/warsaw_201803_om4_v1.0.1/CM4_Scenario_ssp585/gfdl.ncrc4-intel16-prod-openmp/pp/ocean_monthly_z/ocean_monthly_z.static.nc\",\n",
    "                             'file_str_identifier' : \"*.2060*\",\n",
    "                             'lat_range' : [40,65],\n",
    "                             'basin_list': [2,6,7],\n",
    "                             'z_layer_var' : \"z_l\",\n",
    "                             'z_inter_var' : \"z_i\"\n",
    "                             },\n",
    "            }"
   ]
  },
  {
   "cell_type": "markdown",
   "id": "76ec1257-02e3-47d0-9bf1-9e6d5327b359",
   "metadata": {},
   "source": [
    "### ... first in sigma0"
   ]
  },
  {
   "cell_type": "code",
   "execution_count": null,
   "id": "29237c04-6920-450c-a951-2f524687d251",
   "metadata": {
    "tags": []
   },
   "outputs": [],
   "source": [
    "%%time\n",
    "### AMOCz in CM4hires\n",
    "ComputeDiag_dict_OfflineSig0 = {}\n",
    "dmgetout_flag = False\n",
    "zarr_dir='/xtmp/Matthew.Thomas/work'\n",
    "if dmgetout_flag: print(f'run the following dmget commands:')\n",
    "for keys in run_dict:\n",
    "    ds, grid, moc_sig, rhopoto = MOC_funcs.MOC_basin_latrange_offline(dir_vars=run_dict[keys]['depth_vars_path'],dir_grid=run_dict[keys]['grid_path'],file_str_identifier=run_dict[keys]['file_str_identifier'],nrho=50,rholims=[21,28.1],ref_pres=0,lat_range=run_dict[keys]['lat_range'],basin_list=run_dict[keys]['basin_list'],z_layer_var=run_dict[keys]['z_layer_var'],z_inter_var=run_dict[keys]['z_inter_var'],decode_times_flag=True,dmgetout=dmgetout_flag,zarr_dir=zarr_dir)\n",
    "    if len(ds)>0:\n",
    "        moc_z=ds.vmo.mean('time').fillna(0).sum('xh').cumsum('z_l')/1e6/1030   \n",
    "        ComputeDiag_dict_OfflineSig0[keys]={\n",
    "                                'ds' : ds, 'grid': grid, 'moc_sig' : moc_sig, 'rhopoto' : rhopoto, 'moc_z' : moc_z,\n",
    "                                }"
   ]
  },
  {
   "cell_type": "code",
   "execution_count": null,
   "id": "bba07f1c-dbcb-4c2d-a55e-11eda4f224de",
   "metadata": {
    "tags": []
   },
   "outputs": [],
   "source": [
    "%%time\n",
    "load_data_flag=0\n",
    "fig = plt.figure(figsize=(16,len(ComputeDiag_dict_OfflineSig0.keys())*5))\n",
    "subplot_num=1\n",
    "for keys in run_dict:\n",
    "    \n",
    "    if load_data_flag:\n",
    "        ComputeDiag_dict_OfflineSig0[keys]['moc_sig']=ComputeDiag_dict_OfflineSig0[keys]['moc_sig'].load()\n",
    "        ComputeDiag_dict_OfflineSig0[keys]['moc_z']=ComputeDiag_dict_OfflineSig0[keys]['moc_z'].load()\n",
    "    \n",
    "    ax = fig.add_subplot(len(ComputeDiag_dict_OfflineSig0.keys()),2,(subplot_num*2)-1)\n",
    "    ComputeDiag_dict_OfflineSig0[keys]['moc_sig'].plot.contourf(y='rhopoto_bin',vmin=-10,vmax=24,levels=30,ylim=[28,22],cmap='RdBu_r')\n",
    "    plt.title('AMOCsig for years '+run_dict[keys]['file_str_identifier']+'. Run '+keys)\n",
    "    plt.xlabel('')\n",
    "    ax = fig.add_subplot(len(ComputeDiag_dict_OfflineSig0.keys()),2,subplot_num*2)\n",
    "    ComputeDiag_dict_OfflineSig0[keys]['moc_z'].plot.contourf(vmin=-5,vmax=20,levels=30,ylim=[6000,0],cmap='RdBu_r')\n",
    "    plt.fill_between(ComputeDiag_dict_OfflineSig0[keys]['grid'].yh,ComputeDiag_dict_OfflineSig0[keys]['grid']['deptho'].max(dim='xh'),8000,color='k')\n",
    "    plt.title('AMOCz for years '+run_dict[keys]['file_str_identifier']+'. Run '+keys)\n",
    "    plt.xlabel('')\n",
    "    subplot_num+=1"
   ]
  },
  {
   "cell_type": "markdown",
   "id": "046b50c1-6ae9-4dc1-89c5-6e7538b03f8b",
   "metadata": {
    "tags": []
   },
   "source": [
    "### ... now in sigma2 for comparison to the online version"
   ]
  },
  {
   "cell_type": "code",
   "execution_count": null,
   "id": "4e09b98d-2d27-4f24-8ad5-96bf4d52dac2",
   "metadata": {
    "tags": []
   },
   "outputs": [],
   "source": [
    "%%time\n",
    "### AMOCz in CM4hires\n",
    "ComputeDiag_dict_OfflineSig2 = {}\n",
    "dmgetout_flag = False\n",
    "zarr_dir='/xtmp/Matthew.Thomas/work'\n",
    "if dmgetout_flag: print(f'run the following dmget commands:')\n",
    "for keys in run_dict:\n",
    "    ds, grid, moc_sig, rhopoto = MOC_funcs.MOC_basin_latrange_offline(dir_vars=run_dict[keys]['depth_vars_path'],dir_grid=run_dict[keys]['grid_path'],file_str_identifier=run_dict[keys]['file_str_identifier'],lat_range=run_dict[keys]['lat_range'],basin_list=run_dict[keys]['basin_list'],rholims=[20,39],ref_pres=2000,z_layer_var=run_dict[keys]['z_layer_var'],z_inter_var=run_dict[keys]['z_inter_var'],decode_times_flag=True,dmgetout=dmgetout_flag,zarr_dir=zarr_dir)\n",
    "    if len(ds)>0:\n",
    "        moc_z=ds.vmo.mean('time').fillna(0).sum('xh').cumsum('z_l')/1e6/1030    \n",
    "        ComputeDiag_dict_OfflineSig2[keys]={\n",
    "                                'ds' : ds, 'grid': grid, 'moc_sig' : moc_sig, 'rhopoto' : rhopoto, 'moc_z' : moc_z,\n",
    "                                }"
   ]
  },
  {
   "cell_type": "code",
   "execution_count": null,
   "id": "3ff337c9-bd97-47a0-8438-4e83e1923c37",
   "metadata": {
    "tags": []
   },
   "outputs": [],
   "source": [
    "%%time\n",
    "load_data_flag=1\n",
    "fig = plt.figure(figsize=(16,len(ComputeDiag_dict_OfflineSig2.keys())*5))\n",
    "subplot_num=1\n",
    "for keys in run_dict:\n",
    "    \n",
    "    if load_data_flag:\n",
    "        ComputeDiag_dict_OfflineSig2[keys]['moc_sig']=ComputeDiag_dict_OfflineSig2[keys]['moc_sig'].load()\n",
    "        ComputeDiag_dict_OfflineSig2[keys]['moc_z']=ComputeDiag_dict_OfflineSig2[keys]['moc_z'].load()\n",
    "    \n",
    "    ax = fig.add_subplot(len(ComputeDiag_dict_OfflineSig2.keys()),2,(subplot_num*2)-1)\n",
    "    ComputeDiag_dict_OfflineSig2[keys]['moc_sig'].plot.contourf(y='rhopoto_bin',vmin=-10,vmax=24,levels=30,ylim=[38,30],cmap='RdBu_r')\n",
    "    plt.title('AMOCsig for years '+run_dict[keys]['file_str_identifier']+'. Run '+keys)\n",
    "    plt.xlabel('')\n",
    "    ax = fig.add_subplot(len(ComputeDiag_dict_OfflineSig2.keys()),2,subplot_num*2)\n",
    "    ComputeDiag_dict_OfflineSig2[keys]['moc_z'].plot.contourf(vmin=-5,vmax=20,levels=30,ylim=[6000,0],xlim=[run_dict[keys]['lat_range'][0],run_dict[keys]['lat_range'][1]],cmap='RdBu_r')\n",
    "    plt.fill_between(ComputeDiag_dict_OfflineSig2[keys]['grid'].yh,ComputeDiag_dict_OfflineSig2[keys]['grid']['deptho'].max(dim='xh'),8000,color='k')\n",
    "    plt.title('AMOCz for years '+run_dict[keys]['file_str_identifier']+'. Run '+keys)\n",
    "    plt.xlabel('')\n",
    "    subplot_num+=1"
   ]
  },
  {
   "cell_type": "code",
   "execution_count": null,
   "id": "45ca2930-8ada-43b4-b102-7e026cc54a27",
   "metadata": {
    "tags": []
   },
   "outputs": [],
   "source": [
    "cluster.close()\n",
    "client.close()"
   ]
  },
  {
   "cell_type": "code",
   "execution_count": null,
   "id": "4f4ec605-ecb4-4f8b-8514-a38abb16dbb7",
   "metadata": {},
   "outputs": [],
   "source": [
    "# done! "
   ]
  }
 ],
 "metadata": {
  "kernelspec": {
   "display_name": "Python 3 (ipykernel)",
   "language": "python",
   "name": "python3"
  },
  "language_info": {
   "codemirror_mode": {
    "name": "ipython",
    "version": 3
   },
   "file_extension": ".py",
   "mimetype": "text/x-python",
   "name": "python",
   "nbconvert_exporter": "python",
   "pygments_lexer": "ipython3",
   "version": "3.9.16"
  }
 },
 "nbformat": 4,
 "nbformat_minor": 5
}
